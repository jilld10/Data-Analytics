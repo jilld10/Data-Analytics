{
 "cells": [
  {
   "cell_type": "markdown",
   "metadata": {},
   "source": [
    "# Final Project: Sentiment Analysis of 10-K and 10-Q"
   ]
  },
  {
   "cell_type": "markdown",
   "metadata": {},
   "source": [
    "This project ask you to perform sentiment analysis on 10-K Financial Reports.\n",
    "\n",
    "1. You are asked to pick 1 firm, download the entire history of 10-K and 10-Q financial reports from the SEC Edgar Server.\n",
    "\n",
    "2. Perform sentiment analysis on all the 10-K and 10-Q reports.\n",
    "\n",
    "3. Merge with stock return data.\n",
    "\n",
    "4. Determine if changes in negative sentiment can predict stock returns."
   ]
  },
  {
   "cell_type": "markdown",
   "metadata": {},
   "source": [
    "## Obtain 10-K Financial Reports"
   ]
  },
  {
   "cell_type": "code",
   "execution_count": 6,
   "metadata": {},
   "outputs": [
    {
     "name": "stdout",
     "output_type": "stream",
     "text": [
      "Requirement already satisfied: sec-edgar-downloader in /Users/quoc/opt/anaconda3/lib/python3.9/site-packages (4.3.0)\n",
      "Requirement already satisfied: lxml in /Users/quoc/opt/anaconda3/lib/python3.9/site-packages (from sec-edgar-downloader) (4.6.3)\n",
      "Requirement already satisfied: requests in /Users/quoc/opt/anaconda3/lib/python3.9/site-packages (from sec-edgar-downloader) (2.26.0)\n",
      "Requirement already satisfied: bs4 in /Users/quoc/opt/anaconda3/lib/python3.9/site-packages (from sec-edgar-downloader) (0.0.1)\n",
      "Requirement already satisfied: Faker in /Users/quoc/opt/anaconda3/lib/python3.9/site-packages (from sec-edgar-downloader) (13.11.1)\n",
      "Requirement already satisfied: beautifulsoup4 in /Users/quoc/opt/anaconda3/lib/python3.9/site-packages (from bs4->sec-edgar-downloader) (4.10.0)\n",
      "Requirement already satisfied: python-dateutil>=2.4 in /Users/quoc/opt/anaconda3/lib/python3.9/site-packages (from Faker->sec-edgar-downloader) (2.8.2)\n",
      "Requirement already satisfied: certifi>=2017.4.17 in /Users/quoc/opt/anaconda3/lib/python3.9/site-packages (from requests->sec-edgar-downloader) (2021.10.8)\n",
      "Requirement already satisfied: urllib3<1.27,>=1.21.1 in /Users/quoc/opt/anaconda3/lib/python3.9/site-packages (from requests->sec-edgar-downloader) (1.26.7)\n",
      "Requirement already satisfied: idna<4,>=2.5 in /Users/quoc/opt/anaconda3/lib/python3.9/site-packages (from requests->sec-edgar-downloader) (3.2)\n",
      "Requirement already satisfied: charset-normalizer~=2.0.0 in /Users/quoc/opt/anaconda3/lib/python3.9/site-packages (from requests->sec-edgar-downloader) (2.0.4)\n",
      "Requirement already satisfied: six>=1.5 in /Users/quoc/opt/anaconda3/lib/python3.9/site-packages (from python-dateutil>=2.4->Faker->sec-edgar-downloader) (1.16.0)\n",
      "Requirement already satisfied: soupsieve>1.2 in /Users/quoc/opt/anaconda3/lib/python3.9/site-packages (from beautifulsoup4->bs4->sec-edgar-downloader) (2.2.1)\n",
      "Note: you may need to restart the kernel to use updated packages.\n"
     ]
    }
   ],
   "source": [
    "pip install -U sec-edgar-downloader"
   ]
  },
  {
   "cell_type": "code",
   "execution_count": 7,
   "metadata": {},
   "outputs": [],
   "source": [
    "from sec_edgar_downloader import Downloader\n",
    "dl = Downloader(\"/Users/quoc/Downloads/\")\n"
   ]
  },
  {
   "cell_type": "code",
   "execution_count": 8,
   "metadata": {},
   "outputs": [
    {
     "name": "stdout",
     "output_type": "stream",
     "text": [
      "Skipping filing detail download for '0001032210-00-001961' due to network error: 404 Client Error: Not Found for url: https://www.sec.gov/Archives/edgar/data/0000789019/000103221000001961/0001.txt.\n"
     ]
    },
    {
     "data": {
      "text/plain": [
       "22"
      ]
     },
     "execution_count": 8,
     "metadata": {},
     "output_type": "execute_result"
    }
   ],
   "source": [
    "dl.get(\"10-K\", \"MSFT\")"
   ]
  },
  {
   "cell_type": "markdown",
   "metadata": {},
   "source": [
    "## Analysis \n",
    "\n",
    "* Run tests to examine whether changes in sentiment predicts future stock returns.\n",
    "\n",
    "    * Cumulative 5 days, 10 days, 1 month returns\n",
    "    \n",
    "    * Negative sentiment vs positive sentiment vs overall sentiment\n",
    "        "
   ]
  },
  {
   "cell_type": "code",
   "execution_count": null,
   "metadata": {},
   "outputs": [],
   "source": []
  }
 ],
 "metadata": {
  "kernelspec": {
   "display_name": "Python 3 (ipykernel)",
   "language": "python",
   "name": "python3"
  },
  "language_info": {
   "codemirror_mode": {
    "name": "ipython",
    "version": 3
   },
   "file_extension": ".py",
   "mimetype": "text/x-python",
   "name": "python",
   "nbconvert_exporter": "python",
   "pygments_lexer": "ipython3",
   "version": "3.9.7"
  }
 },
 "nbformat": 4,
 "nbformat_minor": 4
}
